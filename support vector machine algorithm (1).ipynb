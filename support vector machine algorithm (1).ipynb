{
 "cells": [
  {
   "cell_type": "code",
   "execution_count": 1,
   "id": "84fb0688",
   "metadata": {},
   "outputs": [
    {
     "name": "stdout",
     "output_type": "stream",
     "text": [
      "Requirement already satisfied: scikit-learn in c:\\users\\91732\\appdata\\local\\programs\\python\\python38\\lib\\site-packages (1.1.3)\n",
      "Requirement already satisfied: scipy>=1.3.2 in c:\\users\\91732\\appdata\\local\\programs\\python\\python38\\lib\\site-packages (from scikit-learn) (1.9.3)\n",
      "Requirement already satisfied: joblib>=1.0.0 in c:\\users\\91732\\appdata\\local\\programs\\python\\python38\\lib\\site-packages (from scikit-learn) (1.2.0)\n",
      "Requirement already satisfied: numpy>=1.17.3 in c:\\users\\91732\\appdata\\local\\programs\\python\\python38\\lib\\site-packages (from scikit-learn) (1.23.2)\n",
      "Requirement already satisfied: threadpoolctl>=2.0.0 in c:\\users\\91732\\appdata\\local\\programs\\python\\python38\\lib\\site-packages (from scikit-learn) (3.1.0)\n",
      "\n",
      "[notice] A new release of pip available: 22.1.2 -> 22.3.1\n",
      "[notice] To update, run: c:\\users\\91732\\appdata\\local\\programs\\python\\python38\\python.exe -m pip install --upgrade pip\n"
     ]
    }
   ],
   "source": [
    "!pip install -U scikit-learn"
   ]
  },
  {
   "cell_type": "code",
   "execution_count": 2,
   "id": "73833a8f",
   "metadata": {},
   "outputs": [
    {
     "name": "stdout",
     "output_type": "stream",
     "text": [
      "Requirement already satisfied: matplotlib in c:\\users\\91732\\appdata\\local\\programs\\python\\python38\\lib\\site-packages (3.6.2)\n",
      "Requirement already satisfied: kiwisolver>=1.0.1 in c:\\users\\91732\\appdata\\local\\programs\\python\\python38\\lib\\site-packages (from matplotlib) (1.4.4)\n",
      "Requirement already satisfied: python-dateutil>=2.7 in c:\\users\\91732\\appdata\\local\\programs\\python\\python38\\lib\\site-packages (from matplotlib) (2.8.2)\n",
      "Requirement already satisfied: cycler>=0.10 in c:\\users\\91732\\appdata\\local\\programs\\python\\python38\\lib\\site-packages (from matplotlib) (0.11.0)\n",
      "Requirement already satisfied: contourpy>=1.0.1 in c:\\users\\91732\\appdata\\local\\programs\\python\\python38\\lib\\site-packages (from matplotlib) (1.0.6)\n",
      "Requirement already satisfied: fonttools>=4.22.0 in c:\\users\\91732\\appdata\\local\\programs\\python\\python38\\lib\\site-packages (from matplotlib) (4.38.0)\n",
      "Requirement already satisfied: numpy>=1.19 in c:\\users\\91732\\appdata\\local\\programs\\python\\python38\\lib\\site-packages (from matplotlib) (1.23.2)\n",
      "Requirement already satisfied: pillow>=6.2.0 in c:\\users\\91732\\appdata\\local\\programs\\python\\python38\\lib\\site-packages (from matplotlib) (9.3.0)\n",
      "Requirement already satisfied: pyparsing>=2.2.1 in c:\\users\\91732\\appdata\\local\\programs\\python\\python38\\lib\\site-packages (from matplotlib) (3.0.9)\n",
      "Requirement already satisfied: packaging>=20.0 in c:\\users\\91732\\appdata\\local\\programs\\python\\python38\\lib\\site-packages (from matplotlib) (21.3)\n",
      "Requirement already satisfied: six>=1.5 in c:\\users\\91732\\appdata\\local\\programs\\python\\python38\\lib\\site-packages (from python-dateutil>=2.7->matplotlib) (1.16.0)\n",
      "\n",
      "[notice] A new release of pip available: 22.1.2 -> 22.3.1\n",
      "[notice] To update, run: c:\\users\\91732\\appdata\\local\\programs\\python\\python38\\python.exe -m pip install --upgrade pip\n"
     ]
    }
   ],
   "source": [
    "!pip install matplotlib"
   ]
  },
  {
   "cell_type": "markdown",
   "id": "521b0b1d",
   "metadata": {},
   "source": [
    "## Fetching accuracy score with SVM algorithm\n",
    "\n",
    "- Importing necessary libraries for plotting the hyperplane and get accuracy\n",
    "- First create the dataset with the sample of **100** with 4 classes.\n",
    "**Logic behind using n_classes and n_clusters_per_class* : While creating the dataset I created 4 classes and per class there is 1 cluster (cluster in hypercube)\n",
    "\n",
    "- Now dataset is created,by using **train_test_split**, it can be splitted into x_train, x_test, y_train, y_test"
   ]
  },
  {
   "cell_type": "code",
   "execution_count": 3,
   "id": "00e781f5",
   "metadata": {},
   "outputs": [],
   "source": [
    "import numpy as np\n",
    "from sklearn import svm\n",
    "from sklearn.datasets import make_classification\n",
    "from sklearn.model_selection import train_test_split\n",
    "from sklearn.metrics import accuracy_score\n",
    "import matplotlib.pyplot as plt"
   ]
  },
  {
   "cell_type": "code",
   "execution_count": 4,
   "id": "40a185fd",
   "metadata": {},
   "outputs": [
    {
     "name": "stdout",
     "output_type": "stream",
     "text": [
      "0.9\n",
      "0.96\n"
     ]
    }
   ],
   "source": [
    "\n",
    "X,t= make_classification(100,5,n_classes= 4, random_state=40, n_informative=2, n_clusters_per_class=1)\n",
    "\n",
    "# splitting the data\n",
    "x_train, x_test, y_train, y_test= train_test_split(X,t,test_size=0.50)\n",
    "\n",
    "# Implementing the svm (support vector machine) algorithms\n",
    "svc_model= svm.SVC(kernel='linear', random_state=40, C=2.0)\n",
    "svc_model.fit(x_train, y_train)\n",
    "y1= svc_model.predict(x_test)\n",
    "y2= svc_model.predict(x_train)\n",
    "\n",
    "# getting the accuracy score\n",
    "acc_score1= accuracy_score(y1,y_test)\n",
    "acc_score2= accuracy_score(y2,y_train)\n",
    "print(acc_score1)\n",
    "print(acc_score2)"
   ]
  },
  {
   "cell_type": "code",
   "execution_count": 5,
   "id": "06bd4700",
   "metadata": {},
   "outputs": [
    {
     "data": {
      "image/png": "[encoded data removed]",
      "text/plain": [
       "<Figure size 432x288 with 1 Axes>"
      ]
     },
     "metadata": {
      "needs_background": "light"
     },
     "output_type": "display_data"
    }
   ],
   "source": [
    "## creating a hyperplane\n",
    "\n",
    "color=['red' if c==0 else 'green' for c in y1] # creating the hyperplane for x_test\n",
    "plt.scatter(x_train[:,0],x_train[:,1], c=color)\n",
    "\n",
    "w= svc_model.coef_[0]\n",
    "a= -w[0]/w[1]\n",
    "\n",
    "xx= np.linspace(-2.5,2.5)\n",
    "yy= a*xx-(svc_model.intercept_[0]/w[1])\n",
    "\n",
    "## plotting the hyperplane\n",
    "plt.plot(xx,yy)\n",
    "plt.axis('off'),\n",
    "plt.show();"
   ]
  }
 ],
 "metadata": {
  "kernelspec": {
   "display_name": "Python 3 (ipykernel)",
   "language": "python",
   "name": "python3"
  },
  "language_info": {
   "codemirror_mode": {
    "name": "ipython",
    "version": 3
   },
   "file_extension": ".py",
   "mimetype": "text/x-python",
   "name": "python",
   "nbconvert_exporter": "python",
   "pygments_lexer": "ipython3",
   "version": "3.8.0"
  }
 },
 "nbformat": 4,
 "nbformat_minor": 5
}
